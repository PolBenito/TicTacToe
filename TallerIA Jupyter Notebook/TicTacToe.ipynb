{
 "cells": [
  {
   "cell_type": "code",
   "execution_count": 48,
   "metadata": {},
   "outputs": [
    {
     "name": "stdout",
     "output_type": "stream",
     "text": [
      "WIN\n"
     ]
    }
   ],
   "source": [
    "from pandas import *\n",
    "import numpy as np\n",
    "nada = '-'\n",
    "cruz = 'X'\n",
    "circulo = 'O'\n",
    "\n",
    "tablero = np.array([[nada, cruz, nada], \n",
    "                    [nada, cruz, nada], \n",
    "                    [nada, cruz, nada]])\n",
    "\n",
    "\n",
    "def all_same(items):\n",
    "    global nada\n",
    "    if nada in items:\n",
    "        return False\n",
    "    return all(x == items[0] for x in items)\n",
    "\n",
    "if all_same(tablero[0]) or all_same(tablero[1]) or all_same(tablero[2]) or all_same(tablero[:, 0]) or all_same(tablero[:, 1]) or all_same(tablero[:, 2]) or all_same(tablero.diagonal()) or all_same(np.fliplr(tablero).diagonal()):\n",
    "    print ('WIN')"
   ]
  },
  {
   "cell_type": "code",
   "execution_count": null,
   "metadata": {},
   "outputs": [],
   "source": []
  },
  {
   "cell_type": "code",
   "execution_count": null,
   "metadata": {},
   "outputs": [],
   "source": []
  }
 ],
 "metadata": {
  "kernelspec": {
   "display_name": "Python 3",
   "language": "python",
   "name": "python3"
  },
  "language_info": {
   "codemirror_mode": {
    "name": "ipython",
    "version": 3
   },
   "file_extension": ".py",
   "mimetype": "text/x-python",
   "name": "python",
   "nbconvert_exporter": "python",
   "pygments_lexer": "ipython3",
   "version": "3.7.1"
  }
 },
 "nbformat": 4,
 "nbformat_minor": 4
}
